{
 "cells": [
  {
   "cell_type": "markdown",
   "metadata": {},
   "source": [
    "# What is Flask"
   ]
  },
  {
   "cell_type": "markdown",
   "metadata": {},
   "source": [
    "Flask is a micro web framework powered by Python. \n",
    "Micro-frameworks are normally frameworks with little to no dependencies to external libraries. \n",
    "This makes Flask fairly small, making it easy to learn and simple to use. \n",
    "But also powerful enough to support enterprise-level applications handling large amounts of traffic. \n",
    "Flask was created by Armin Ronacher: \"It came out of an April Fool's joke but proved popular enough to make into a serious application in its own right.\" \n",
    "\n",
    "Pros: \n",
    "- the framework is light\n",
    "- there are little dependencies to update\n",
    "\n",
    "Cons:\n",
    "- as your apps needs grow your list of dependencies will grow\n",
    "- you will have to do a lot more work by yourself"
   ]
  },
  {
   "cell_type": "markdown",
   "metadata": {},
   "source": [
    "## Setup"
   ]
  },
  {
   "cell_type": "markdown",
   "metadata": {},
   "source": [
    "Let's setup our development environment. \n",
    "Navigate to a place of your choosing and create a new project directory.\n",
    "I'm going to do this in my Class18 folder.\n",
    "\n",
    "    $ cd dev/OMIS30_Fall2019/Class18/\n",
    "\n",
    "    $ mkdir flask-intro\n",
    "    $ cd flask-intro\n",
    "\n",
    "\n",
    "I like to use virtual environments.  \n",
    "I'm going to set one up inside my flask-intro folder.\n",
    "\n",
    "    $ python3 -m venv first_flask_app\n",
    "  \n",
    "\n",
    "Now let's activate the virtual environment!\n",
    "    \n",
    "    $ source first_flask_app/bin/activate\n",
    "\n",
    "\n",
    "you should now see a change in your prompt similar to this...\n",
    "\n",
    "    (first_flask_app) $ \n",
    "\n",
    "\n",
    "What we just did was create a special vertual environment that is designed to keep all of our dependencies for this project seperated from our machine and any other projects on our computers."
   ]
  },
  {
   "cell_type": "markdown",
   "metadata": {},
   "source": [
    "## Flask begins\n",
    "\n",
    "Now that you have a virtual environment created and activated, we can finally install Flask into it.\n",
    "If you are using a virtual environment, you'll need to re-install a lot of other libraries - even if you have Anaconda.\n",
    "\n",
    "    (first_flask_app) $ pip install flask\n",
    "\n",
    "\n",
    "Flask uses a specific file structure inside the directory.\n",
    "Mainly, an app.py file and two folders (static + templates).\n",
    "\n",
    "    $ touch app.py\n",
    "    $ mkdir static\n",
    "    $ mkdir templates\n",
    "\n",
    "\n",
    "Our directory structure should look like this now...\n",
    "\n",
    "    ├── app.py\n",
    "    ├── static\n",
    "    ├── templates\n",
    "    └── first_flask_app\n",
    "\n",
    "\n",
    "You should now open this directory in VS code."
   ]
  },
  {
   "cell_type": "markdown",
   "metadata": {},
   "source": [
    "### Open the app.py file"
   ]
  },
  {
   "cell_type": "raw",
   "metadata": {},
   "source": [
    "It will be blank to start.  \n",
    "Copy the following set of code into the app.py file."
   ]
  },
  {
   "cell_type": "code",
   "execution_count": null,
   "metadata": {},
   "outputs": [],
   "source": [
    "# import the Flask class from the flask module\n",
    "from flask import Flask\n",
    "\n",
    "# create the application object\n",
    "app = Flask(__name__)\n",
    "\n",
    "# use decorators to link the function to a url\n",
    "@app.route('/')\n",
    "def home():\n",
    "    return \"Hello World\"\n",
    "\n",
    "# start the server with the 'run()' method\n",
    "if __name__ == '__main__':\n",
    "    app.run(debug = True)"
   ]
  },
  {
   "cell_type": "markdown",
   "metadata": {},
   "source": [
    "## A bit about Route\n",
    "\n",
    "The routes are the different URLs that the application implements. \n",
    "In Flask, handlers for the application routes are written as Python functions, called view functions. \n",
    "View functions are mapped to one or more route URLs so that Flask knows what logic to execute when a client requests a given URL.\n",
    "\n",
    "Our first view function is def home().\n",
    "\n",
    "This view function is actually pretty simple, it just returns a greeting as a string. The strange @app.route line above the function is a decorator, a unique feature of the Python language. A decorator modifies the function that follows it.\n",
    "\n",
    "    @app.route('/')          <----decorator\n",
    "    def home():              <----function name\n",
    "        return \"Hello World\" <----return string \"Hello World\""
   ]
  },
  {
   "cell_type": "markdown",
   "metadata": {},
   "source": [
    "Now let's start our development server and run it in our browser\n",
    "\n",
    "    $ python app.py\n",
    "    \n",
    "And open our browser at http://127.0.0.1:5000/"
   ]
  },
  {
   "cell_type": "markdown",
   "metadata": {},
   "source": [
    "## Randon NumberGen\n",
    "\n",
    "Let's add a few lines to our app.py.\n",
    "Swap out the 'hello world' part with a random number."
   ]
  },
  {
   "cell_type": "code",
   "execution_count": null,
   "metadata": {},
   "outputs": [],
   "source": [
    "# import the Flask class from the flask module\n",
    "from flask import Flask\n",
    "from numpy.random import rand\n",
    "\n",
    "# create the application object\n",
    "app = Flask(__name__)\n",
    "\n",
    "# use decorators to link the function to a url\n",
    "@app.route('/')\n",
    "def home():\n",
    "    return rand(1)\n",
    "\n",
    "# start the server with the 'run()' method\n",
    "if __name__ == '__main__':\n",
    "    app.run(debug = True)"
   ]
  },
  {
   "cell_type": "markdown",
   "metadata": {},
   "source": [
    "you will get an error...\n",
    "\n",
    "    ModuleNotFoundError: No module named 'numpy'\n",
    "    \n",
    "numpy must be installed\n",
    "\n",
    "    pip install numpy\n",
    "    \n",
    "now let's start up the development server again and see the results\n",
    "\n",
    "    python app.py\n",
    "    \n",
    "Reload your browser at http://127.0.0.1:5000/ \n",
    "\n",
    "You should see an error...\n",
    "\n",
    "The error tells us \"The return type must be a string, tuple, ...etc... but it was a ndarray.\"\n",
    "\n",
    "To fix this we can simply change\n",
    "\n",
    "    rand(1)\n",
    "\n",
    "to\n",
    "\n",
    "    str(rand(1))\n",
    "    \n",
    "Now when we reload http://127.0.0.1:5000/ \n",
    "\n",
    "Play with the reload and notice at each GET request a new random number is created."
   ]
  },
  {
   "cell_type": "markdown",
   "metadata": {},
   "source": [
    "Congratulations you've just created your first Flask app. \n",
    "\n",
    "What have you learned?\n",
    "\n",
    "- what Flask is\n",
    "- basic Flask app structure\n",
    "- virtual environments\n",
    "- routes\n",
    "- decorators\n",
    "- installing moduals with pip\n",
    "- running a development server on your local computer"
   ]
  }
 ],
 "metadata": {
  "kernelspec": {
   "display_name": "Python 3",
   "language": "python",
   "name": "python3"
  },
  "language_info": {
   "codemirror_mode": {
    "name": "ipython",
    "version": 3
   },
   "file_extension": ".py",
   "mimetype": "text/x-python",
   "name": "python",
   "nbconvert_exporter": "python",
   "pygments_lexer": "ipython3",
   "version": "3.7.4"
  }
 },
 "nbformat": 4,
 "nbformat_minor": 2
}
